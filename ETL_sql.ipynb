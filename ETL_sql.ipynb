{
 "cells": [
  {
   "cell_type": "code",
   "execution_count": null,
   "metadata": {
    "displayMode": "maximized",
    "isLimitOn": true,
    "width": 12
   },
   "outputs": [],
   "source": [
    "--Q1\r\n",
    "--Risk category Violation not including invalid ZIPcodes (null, 8 digits zip code, State)\r\n",
    "SELECT postal_code as \"Zip Code\", risk_category, COUNT(risk_category) as \"Count of risk category\"\r\n",
    "FROM violations\r\n",
    "LEFT JOIN businesses\r\n",
    "ON violations.business_id = businesses.business_id\r\n",
    "WHERE len(postal_code) = 5\r\n",
    "GROUP BY risk_category, postal_code\r\n",
    "ORDER BY Postal_code DESC;"
   ]
  },
  {
   "cell_type": "code",
   "execution_count": null,
   "metadata": {
    "displayMode": "maximized",
    "isLimitOn": true,
    "width": 12
   },
   "outputs": [],
   "source": [
    "--Q2\r\n",
    "----average score of restaurants in the different zip codes by year. \r\n",
    "-- not includng invalid zip codes\r\n",
    "SELECT postal_code, LEFT(date, 4) as year, AVG(score) as \"Average Score\"\r\n",
    "FROM inspections\r\n",
    "LEFT JOIN businesses\r\n",
    "ON inspections.business_id = businesses.business_id\r\n",
    "WHERE len(postal_code) = 5\r\n",
    "GROUP BY postal_code, year\r\n",
    "ORDER BY postal_code;"
   ]
  },
  {
   "cell_type": "code",
   "execution_count": null,
   "metadata": {
    "displayMode": "maximized",
    "isLimitOn": true,
    "width": 12
   },
   "outputs": [],
   "source": [
    "--q3.1 (part 1 of 3)\r\n",
    "--chosing business ID becuase there are duplicate business name\r\n",
    "--create a view that find top 10 business ID that has risk category \r\n",
    "-- as null and business_id is not null\r\n",
    "CREATE VIEW topbus AS\r\n",
    "SELECT TOP 10 businesses.business_id, COUNT(risk_category)\r\n",
    "FROM violations\r\n",
    "LEFT JOIN businesses\r\n",
    "ON violations.business_id = businesses.business_id\r\n",
    "WHERE risk_category = 'High Risk' AND businesses.business_id IS NOT NULL\r\n",
    "GROUP BY businesses.business_id\r\n",
    "ORDER BY COUNT(risk_category) DESC;"
   ]
  },
  {
   "cell_type": "code",
   "execution_count": null,
   "metadata": {
    "displayMode": "maximized",
    "isLimitOn": true,
    "width": 12
   },
   "outputs": [],
   "source": [
    "--q3.2\r\n",
    "--matching the business id with its name\r\n",
    "CREATE VIEW busname AS\r\n",
    "SELECT businesses.business_id, count, name\r\n",
    "FROM topbus\r\n",
    "LEFT JOIN businesses\r\n",
    "ON topbus.business_id = businesses.business_id;"
   ]
  },
  {
   "cell_type": "code",
   "execution_count": null,
   "metadata": {
    "displayMode": "maximized",
    "isLimitOn": true,
    "width": 12
   },
   "outputs": [],
   "source": [
    "--3.3 \r\n",
    "--matching busiess_id to all of their violations\r\n",
    "--in the violation table.\r\n",
    "SELECT name, description\r\n",
    "FROM busname\r\n",
    "INNER JOIN violations\r\n",
    "ON busname.business_id = violations.business_id\r\n",
    "WHERE risk_category = 'High Risk';"
   ]
  }
 ],
 "metadata": {
  "kernelspec": {
   "display_name": "Python 3 (ipykernel)",
   "language": "python",
   "name": "python3"
  },
  "language_info": {
   "codemirror_mode": {
    "name": "ipython",
    "version": 3
   },
   "file_extension": ".py",
   "mimetype": "text/x-python",
   "name": "python",
   "nbconvert_exporter": "python",
   "pygments_lexer": "ipython3",
   "version": "3.10.12"
  },
  "title": "Untitled 2",
  "version": 1
 },
 "nbformat": 4,
 "nbformat_minor": 4
}
